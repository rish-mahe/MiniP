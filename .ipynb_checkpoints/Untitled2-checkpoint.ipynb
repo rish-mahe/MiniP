{
 "cells": [
  {
   "cell_type": "code",
   "execution_count": 11,
   "metadata": {
    "collapsed": true
   },
   "outputs": [],
   "source": [
    "import pandas as pd\n",
    "a = pd.read_csv(\"/home/rishabh/Desktop/orange_small_train.data\", sep=\"\\t\")\n"
   ]
  },
  {
   "cell_type": "code",
   "execution_count": 18,
   "metadata": {
    "scrolled": true
   },
   "outputs": [
    {
     "data": {
      "text/plain": [
       "0        fXVEsaq\n",
       "1        2Kb5FSF\n",
       "2        NKv4yOc\n",
       "3        CE7uk3u\n",
       "4        1J2cvxe\n",
       "5        QqVuch3\n",
       "6        XlgxB9z\n",
       "7        R2LdzOv\n",
       "8        K2SqEo9\n",
       "9        EPqQcw6\n",
       "10       catzS2D\n",
       "11       VWtIBQt\n",
       "12       WfsWw2A\n",
       "13       QKXEsaq\n",
       "14       kYwEsaq\n",
       "15       IIvQguc\n",
       "16       WfsWw2A\n",
       "17       catzS2D\n",
       "18       DQ3iZDY\n",
       "19       VQZzrB7\n",
       "20       UbjqFbB\n",
       "21       1gu2qo0\n",
       "22       9JvQQMs\n",
       "23       rUj52Lp\n",
       "24       ag5iNPX\n",
       "25       CmhRjAG\n",
       "26       nytT3Cb\n",
       "27       IhKskzO\n",
       "28       DNvRusu\n",
       "29       e7bTQlu\n",
       "          ...   \n",
       "49970    _sz_44J\n",
       "49971    cObaF5M\n",
       "49972    rH0P_83\n",
       "49973    catzS2D\n",
       "49974    alU2fT4\n",
       "49975    UP3EVaf\n",
       "49976    catzS2D\n",
       "49977    catzS2D\n",
       "49978    dXi2qo0\n",
       "49979    mh7QQMs\n",
       "49980    catzS2D\n",
       "49981    iQJ2C8o\n",
       "49982    RkjqJRo\n",
       "49983    rT1Esaq\n",
       "49984    APgdzOv\n",
       "49985    cObCBw5\n",
       "49986    MRPKMwm\n",
       "49987    c4R2fT4\n",
       "49988    BULTE6Y\n",
       "49989    bIKwXmR\n",
       "49990    E8Sj7qz\n",
       "49991    NbpqwxB\n",
       "49992    SiXzrB7\n",
       "49993    Vo68gbh\n",
       "49994    dclJEx2\n",
       "49995    EROH7Cg\n",
       "49996    GfSQowC\n",
       "49997    dh6qI2t\n",
       "49998    2fF2Oqu\n",
       "49999    IIvC99a\n",
       "Name: Var222, Length: 50000, dtype: object"
      ]
     },
     "execution_count": 18,
     "metadata": {},
     "output_type": "execute_result"
    }
   ],
   "source": [
    "a['Var222']"
   ]
  },
  {
   "cell_type": "code",
   "execution_count": 21,
   "metadata": {},
   "outputs": [
    {
     "ename": "TypeError",
     "evalue": "'numpy.ndarray' object is not callable",
     "output_type": "error",
     "traceback": [
      "\u001b[0;31m---------------------------------------------------------------------------\u001b[0m",
      "\u001b[0;31mTypeError\u001b[0m                                 Traceback (most recent call last)",
      "\u001b[0;32m<ipython-input-21-35b8d237add8>\u001b[0m in \u001b[0;36m<module>\u001b[0;34m()\u001b[0m\n\u001b[0;32m----> 1\u001b[0;31m \u001b[0ma\u001b[0m\u001b[0;34m.\u001b[0m\u001b[0mvalues\u001b[0m\u001b[0;34m(\u001b[0m\u001b[0;34m)\u001b[0m\u001b[0;34m\u001b[0m\u001b[0m\n\u001b[0m",
      "\u001b[0;31mTypeError\u001b[0m: 'numpy.ndarray' object is not callable"
     ]
    }
   ],
   "source": []
  },
  {
   "cell_type": "code",
   "execution_count": null,
   "metadata": {
    "collapsed": true
   },
   "outputs": [],
   "source": []
  }
 ],
 "metadata": {
  "kernelspec": {
   "display_name": "Python 3",
   "language": "python",
   "name": "python3"
  },
  "language_info": {
   "codemirror_mode": {
    "name": "ipython",
    "version": 3
   },
   "file_extension": ".py",
   "mimetype": "text/x-python",
   "name": "python",
   "nbconvert_exporter": "python",
   "pygments_lexer": "ipython3",
   "version": "3.6.3"
  }
 },
 "nbformat": 4,
 "nbformat_minor": 2
}
