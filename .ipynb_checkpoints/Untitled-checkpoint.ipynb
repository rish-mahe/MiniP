{
 "cells": [
  {
   "cell_type": "code",
   "execution_count": 46,
   "metadata": {},
   "outputs": [],
   "source": [
    "files = open(\"/home/rishabh/Desktop/orange_small_train.data\", \"r\")\n",
    "a = []\n",
    "for line in files.readlines():\n",
    "    a.append(line.split('\\t'))\n",
    "del a[0]\n",
    "\n"
   ]
  },
  {
   "cell_type": "code",
   "execution_count": 47,
   "metadata": {},
   "outputs": [
    {
     "name": "stdout",
     "output_type": "stream",
     "text": [
      "50000\n"
     ]
    }
   ],
   "source": [
    "churnlabels = open(\"/home/rishabh/Desktop/orange_small_train_churn.labels.txt\", \"r\")\n",
    "cl = []\n",
    "for line in churnlabels.readlines():\n",
    "    cl.append(line)\n",
    "print len(cl)"
   ]
  },
  {
   "cell_type": "code",
   "execution_count": 48,
   "metadata": {},
   "outputs": [],
   "source": [
    "b = [0 for i in range(0,230)]\n",
    "k = 0"
   ]
  },
  {
   "cell_type": "code",
   "execution_count": 49,
   "metadata": {},
   "outputs": [],
   "source": [
    "for row in a:\n",
    "    for i in range(len(b)):\n",
    "        # print row\n",
    "        # if\n",
    "        if (row[i]=='' or row[i]=='\\r\\n'):\n",
    "            b[i]+=1\n",
    "        k+=1\n"
   ]
  },
  {
   "cell_type": "code",
   "execution_count": 30,
   "metadata": {},
   "outputs": [
    {
     "name": "stdout",
     "output_type": "stream",
     "text": [
      "[44373, 43901, 43902, 43575, 43665, 4945, 4965, 45000, 44373, 43665, 43902, 44503, 4965, 43902, 45000, 43665, 43575, 43575, 43575, 45000, 4945, 4486, 43665, 6477, 4486, 43665, 43665, 4488, 44373, 44373, 45000, 45000, 44235, 43901, 4486, 43901, 43575, 4486, 45000, 43901, 44373, 45000, 43901, 4486, 44701, 43901, 44373, 45000, 43901, 44373, 41629, 45000, 44373, 43901, 45000, 44441, 0, 44373, 44279, 43665, 44235, 44503, 44381, 44794, 4965, 44381, 43665, 43901, 43665, 43665, 43985, 20165, 0, 4965, 43901, 4486, 44373, 4486, 45000, 43665, 4945, 43575, 4486, 43902, 4486, 44373, 44373, 44030, 44441, 44373, 43985, 44852, 43665, 20165, 43901, 43901, 43665, 44503, 43575, 44373, 44214, 44587, 43665, 44279, 44279, 43575, 43665, 44373, 6477, 44373, 43985, 4486, 0, 43901, 44279, 44373, 43575, 44852, 4945, 43665, 44373, 43901, 4486, 43575, 4965, 12558, 44030, 44030, 44373, 43902, 44373, 4486, 4486, 4486, 43575, 44381, 44373, 43575, 43665, 4965, 45000, 44373, 4486, 4945, 43575, 43665, 43665, 43665, 6477, 43575, 44235, 43575, 4486, 44373, 43575, 44381, 43985, 44214, 43901, 4486, 43575, 43901, 4486, 43575, 44214, 43665, 45000, 44373, 45000, 43901, 44030, 43665, 4486, 43575, 45000, 43902, 43901, 44441, 43575, 44373, 4486, 43575, 43901, 43901, 45000, 44373, 44373, 43901, 26110, 44705, 44030, 325, 0, 33484, 0, 0, 128, 0, 4, 22809, 33485, 1, 128, 0, 1754, 4945, 0, 128, 45000, 0, 0, 0, 43985, 22809, 44381, 0, 641, 641, 4693, 0, 0, 0, 4693, 44279, 23477, 0, 0, 0, 25505, 45000]\n"
     ]
    }
   ],
   "source": []
  },
  {
   "cell_type": "code",
   "execution_count": 50,
   "metadata": {
    "scrolled": true
   },
   "outputs": [
    {
     "name": "stdout",
     "output_type": "stream",
     "text": [
      "76\n"
     ]
    }
   ],
   "source": [
    "indexList = []\n",
    "for i in range(len(b)):\n",
    "    if (b[i]<45000):\n",
    "        indexList.append(i)\n",
    "\n",
    "print len(indexList)"
   ]
  },
  {
   "cell_type": "code",
   "execution_count": 51,
   "metadata": {},
   "outputs": [],
   "source": [
    "q = []\n",
    "cl1 = []\n",
    "for i in range(len(a)):\n",
    "    bo = False\n",
    "    for j in indexList:\n",
    "        if (a[i][j]==''):\n",
    "            bo = True\n",
    "    if (not bo):\n",
    "        q.append([])\n",
    "        for j in indexList:\n",
    "            q[len(q)-1].append(a[i][j])"
   ]
  },
  {
   "cell_type": "code",
   "execution_count": 52,
   "metadata": {},
   "outputs": [
    {
     "data": {
      "text/plain": [
       "1653"
      ]
     },
     "execution_count": 52,
     "metadata": {},
     "output_type": "execute_result"
    }
   ],
   "source": [
    "len(q)"
   ]
  },
  {
   "cell_type": "code",
   "execution_count": 428,
   "metadata": {},
   "outputs": [],
   "source": [
    "dList = [{} for i in range(len(indexList))]\n",
    "for i in q:\n",
    "    for j in range(len(i)):\n",
    "        try:\n",
    "            float(i[j])\n",
    "        except ValueError:\n",
    "            if (dList[j].has_key(i[j])):\n",
    "                dList[j][i[j]]+=1\n",
    "            else:\n",
    "                dList[j][i[j]] = 1"
   ]
  },
  {
   "cell_type": "code",
   "execution_count": 429,
   "metadata": {},
   "outputs": [],
   "source": [
    "d = [len(dList[i]) for i in range(len(indexList))]\n"
   ]
  },
  {
   "cell_type": "code",
   "execution_count": 430,
   "metadata": {},
   "outputs": [],
   "source": [
    "catInd = []\n",
    "for i in range(len(d)):\n",
    "    if d[i]!= 0:\n",
    "        catInd.append(i)\n"
   ]
  },
  {
   "cell_type": "code",
   "execution_count": 431,
   "metadata": {},
   "outputs": [],
   "source": [
    "import matplotlib.pyplot as plt\n",
    "\n",
    "def plotBar(dLis):\n",
    "    d = dLis\n",
    "    X = np.arange(len(d))\n",
    "    plt.figure(figsize=(len(dLis),10))\n",
    "    ti = [d.keys()[i]+\"-\"+str(d.values()[i]) for i in range(len(d))]\n",
    "    plt.bar(X, d.values(), align='center')\n",
    "    plt.xticks(X, ti, rotation='vertical')\n",
    "    plt.show()"
   ]
  },
  {
   "cell_type": "code",
   "execution_count": 432,
   "metadata": {},
   "outputs": [],
   "source": [
    "def dictSort(di):\n",
    "    def dicr(elem):\n",
    "        return di[elem]\n",
    "    ret = sorted(di.keys(), reverse=True, key=dicr)\n",
    "    return ret[:26]"
   ]
  },
  {
   "cell_type": "code",
   "execution_count": 433,
   "metadata": {},
   "outputs": [],
   "source": [
    "def vectorize(colInd):\n",
    "    vf = []\n",
    "    keySort = dictSort(dList[colInd])\n",
    "    for i in q:\n",
    "        v = [0 for ix in range(len(keySort))]\n",
    "        try:\n",
    "            v[keySort.index(i[colInd])] = 1\n",
    "        except ValueError:\n",
    "            v[-1] = 1\n",
    "        vf.append(v)\n",
    "    return vf"
   ]
  },
  {
   "cell_type": "code",
   "execution_count": 434,
   "metadata": {},
   "outputs": [
    {
     "name": "stdout",
     "output_type": "stream",
     "text": [
      "26\n",
      "[0, 0, 0, 0, 0, 0, 0, 0, 0, 0, 0, 0, 0, 0, 0, 0, 0, 0, 0, 0, 0, 0, 0, 0, 0, 1]\n",
      "FoxgUHSK8h\n",
      "57\n"
     ]
    }
   ],
   "source": [
    "sd = vectorize(42)\n",
    "print len(sd[0])\n",
    "print sd[26]\n",
    "ag = dictSort(dList[42])\n",
    "print ag[0]\n",
    "for i in range(len(q)):\n",
    "    if q[i][42]==ag[1]:\n",
    "        print i\n",
    "        break"
   ]
  },
  {
   "cell_type": "code",
   "execution_count": 435,
   "metadata": {},
   "outputs": [],
   "source": [
    "for i in catInd:\n",
    "    vec = vectorize(i)\n",
    "    for j in range(len(q)):\n",
    "        q[j] += vec[j]"
   ]
  },
  {
   "cell_type": "code",
   "execution_count": 437,
   "metadata": {
    "scrolled": true
   },
   "outputs": [],
   "source": [
    "for i in range(len(catInd)):\n",
    "    for j in q:\n",
    "        del j[catInd[0]]"
   ]
  },
  {
   "cell_type": "code",
   "execution_count": 438,
   "metadata": {},
   "outputs": [],
   "source": [
    "import numpy as np\n",
    "qnp = np.array(q)\n",
    "qnp = qnp.astype('float32')"
   ]
  },
  {
   "cell_type": "code",
   "execution_count": 439,
   "metadata": {},
   "outputs": [
    {
     "name": "stdout",
     "output_type": "stream",
     "text": [
      "[[ 0.02653844  0.2         0.01882662 ...,  0.          0.          0.        ]\n",
      " [ 0.0110171   0.2         0.08450088 ...,  0.          0.          0.        ]\n",
      " [ 0.00773023  0.60000002  0.07147548 ...,  0.          0.          0.        ]\n",
      " ..., \n",
      " [ 0.00736503  0.          0.00284588 ...,  0.          0.          0.        ]\n",
      " [ 0.01229533  0.40000001  0.06753503 ...,  1.          0.          0.        ]\n",
      " [ 0.00900846  0.          0.07486865 ...,  0.          0.          0.        ]]\n"
     ]
    }
   ],
   "source": [
    "for i in range(catInd[0]):\n",
    "    qnp[:,i] = (qnp[:,i] - np.min(qnp[:,i])) / (np.max(qnp[:,i]) - np.min(qnp[:,i]))\n",
    "    \n",
    "print qnp"
   ]
  },
  {
   "cell_type": "code",
   "execution_count": null,
   "metadata": {},
   "outputs": [],
   "source": []
  }
 ],
 "metadata": {
  "kernelspec": {
   "display_name": "Python 3",
   "language": "python",
   "name": "python3"
  },
  "language_info": {
   "codemirror_mode": {
    "name": "ipython",
    "version": 3
   },
   "file_extension": ".py",
   "mimetype": "text/x-python",
   "name": "python",
   "nbconvert_exporter": "python",
   "pygments_lexer": "ipython3",
   "version": "3.6.3"
  }
 },
 "nbformat": 4,
 "nbformat_minor": 2
}
