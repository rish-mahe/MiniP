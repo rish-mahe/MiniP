{
 "cells": [
  {
   "cell_type": "code",
   "execution_count": 13,
   "metadata": {
    "collapsed": true
   },
   "outputs": [],
   "source": [
    "import pandas as pd\n",
    "a = pd.read_csv(\"./orange_small_train.data\", sep=\"\\t\")\n",
    "pd.options.display.max_rows = 999"
   ]
  },
  {
   "cell_type": "code",
   "execution_count": 16,
   "metadata": {
    "scrolled": true
   },
   "outputs": [
    {
     "name": "stdout",
     "output_type": "stream",
     "text": [
      "Var1      False\n",
      "Var2      False\n",
      "Var3      False\n",
      "Var4      False\n",
      "Var5      False\n",
      "Var6      False\n",
      "Var7      False\n",
      "Var8       True\n",
      "Var9      False\n",
      "Var10     False\n",
      "Var11     False\n",
      "Var12     False\n",
      "Var13     False\n",
      "Var14     False\n",
      "Var15      True\n",
      "Var16     False\n",
      "Var17     False\n",
      "Var18     False\n",
      "Var19     False\n",
      "Var20      True\n",
      "Var21     False\n",
      "Var22     False\n",
      "Var23     False\n",
      "Var24     False\n",
      "Var25     False\n",
      "Var26     False\n",
      "Var27     False\n",
      "Var28     False\n",
      "Var29     False\n",
      "Var30     False\n",
      "Var31      True\n",
      "Var32      True\n",
      "Var33     False\n",
      "Var34     False\n",
      "Var35     False\n",
      "Var36     False\n",
      "Var37     False\n",
      "Var38     False\n",
      "Var39      True\n",
      "Var40     False\n",
      "Var41     False\n",
      "Var42      True\n",
      "Var43     False\n",
      "Var44     False\n",
      "Var45     False\n",
      "Var46     False\n",
      "Var47     False\n",
      "Var48      True\n",
      "Var49     False\n",
      "Var50     False\n",
      "Var51     False\n",
      "Var52      True\n",
      "Var53     False\n",
      "Var54     False\n",
      "Var55      True\n",
      "Var56     False\n",
      "Var57     False\n",
      "Var58     False\n",
      "Var59     False\n",
      "Var60     False\n",
      "Var61     False\n",
      "Var62     False\n",
      "Var63     False\n",
      "Var64     False\n",
      "Var65     False\n",
      "Var66     False\n",
      "Var67     False\n",
      "Var68     False\n",
      "Var69     False\n",
      "Var70     False\n",
      "Var71     False\n",
      "Var72     False\n",
      "Var73     False\n",
      "Var74     False\n",
      "Var75     False\n",
      "Var76     False\n",
      "Var77     False\n",
      "Var78     False\n",
      "Var79      True\n",
      "Var80     False\n",
      "Var81     False\n",
      "Var82     False\n",
      "Var83     False\n",
      "Var84     False\n",
      "Var85     False\n",
      "Var86     False\n",
      "Var87     False\n",
      "Var88     False\n",
      "Var89     False\n",
      "Var90     False\n",
      "Var91     False\n",
      "Var92     False\n",
      "Var93     False\n",
      "Var94     False\n",
      "Var95     False\n",
      "Var96     False\n",
      "Var97     False\n",
      "Var98     False\n",
      "Var99     False\n",
      "Var100    False\n",
      "Var101    False\n",
      "Var102    False\n",
      "Var103    False\n",
      "Var104    False\n",
      "Var105    False\n",
      "Var106    False\n",
      "Var107    False\n",
      "Var108    False\n",
      "Var109    False\n",
      "Var110    False\n",
      "Var111    False\n",
      "Var112    False\n",
      "Var113    False\n",
      "Var114    False\n",
      "Var115    False\n",
      "Var116    False\n",
      "Var117    False\n",
      "Var118    False\n",
      "Var119    False\n",
      "Var120    False\n",
      "Var121    False\n",
      "Var122    False\n",
      "Var123    False\n",
      "Var124    False\n",
      "Var125    False\n",
      "Var126    False\n",
      "Var127    False\n",
      "Var128    False\n",
      "Var129    False\n",
      "Var130    False\n",
      "Var131    False\n",
      "Var132    False\n",
      "Var133    False\n",
      "Var134    False\n",
      "Var135    False\n",
      "Var136    False\n",
      "Var137    False\n",
      "Var138    False\n",
      "Var139    False\n",
      "Var140    False\n",
      "Var141     True\n",
      "Var142    False\n",
      "Var143    False\n",
      "Var144    False\n",
      "Var145    False\n",
      "Var146    False\n",
      "Var147    False\n",
      "Var148    False\n",
      "Var149    False\n",
      "Var150    False\n",
      "Var151    False\n",
      "Var152    False\n",
      "Var153    False\n",
      "Var154    False\n",
      "Var155    False\n",
      "Var156    False\n",
      "Var157    False\n",
      "Var158    False\n",
      "Var159    False\n",
      "Var160    False\n",
      "Var161    False\n",
      "Var162    False\n",
      "Var163    False\n",
      "Var164    False\n",
      "Var165    False\n",
      "Var166    False\n",
      "Var167     True\n",
      "Var168    False\n",
      "Var169     True\n",
      "Var170    False\n",
      "Var171    False\n",
      "Var172    False\n",
      "Var173    False\n",
      "Var174    False\n",
      "Var175     True\n",
      "Var176    False\n",
      "Var177    False\n",
      "Var178    False\n",
      "Var179    False\n",
      "Var180    False\n",
      "Var181    False\n",
      "Var182    False\n",
      "Var183    False\n",
      "Var184    False\n",
      "Var185     True\n",
      "Var186    False\n",
      "Var187    False\n",
      "Var188    False\n",
      "Var189    False\n",
      "Var190    False\n",
      "Var191    False\n",
      "Var192    False\n",
      "Var193    False\n",
      "Var194    False\n",
      "Var195    False\n",
      "Var196    False\n",
      "Var197    False\n",
      "Var198    False\n",
      "Var199    False\n",
      "Var200    False\n",
      "Var201    False\n",
      "Var202    False\n",
      "Var203    False\n",
      "Var204    False\n",
      "Var205    False\n",
      "Var206    False\n",
      "Var207    False\n",
      "Var208    False\n",
      "Var209     True\n",
      "Var210    False\n",
      "Var211    False\n",
      "Var212    False\n",
      "Var213    False\n",
      "Var214    False\n",
      "Var215    False\n",
      "Var216    False\n",
      "Var217    False\n",
      "Var218    False\n",
      "Var219    False\n",
      "Var220    False\n",
      "Var221    False\n",
      "Var222    False\n",
      "Var223    False\n",
      "Var224    False\n",
      "Var225    False\n",
      "Var226    False\n",
      "Var227    False\n",
      "Var228    False\n",
      "Var229    False\n",
      "Var230     True\n",
      "dtype: bool\n"
     ]
    }
   ],
   "source": [
    "print(a.count()==0)"
   ]
  },
  {
   "cell_type": "code",
   "execution_count": 17,
   "metadata": {
    "scrolled": true
   },
   "outputs": [
    {
     "name": "stdout",
     "output_type": "stream",
     "text": [
      "Var8\n",
      "Var15\n",
      "Var20\n",
      "Var31\n",
      "Var32\n",
      "Var39\n",
      "Var42\n",
      "Var48\n",
      "Var52\n",
      "Var55\n",
      "Var79\n",
      "Var141\n",
      "Var167\n",
      "Var169\n",
      "Var175\n",
      "Var185\n",
      "Var209\n",
      "Var230\n"
     ]
    }
   ],
   "source": [
    "for col in a:\n",
    "    if (a[col].count()==0):\n",
    "        print(col)\n",
    "        del a[col]"
   ]
  },
  {
   "cell_type": "code",
   "execution_count": 66,
   "metadata": {},
   "outputs": [],
   "source": [
    "a['Var219']=a['Var219'].astype('category')"
   ]
  },
  {
   "cell_type": "code",
   "execution_count": 67,
   "metadata": {
    "scrolled": true
   },
   "outputs": [
    {
     "data": {
      "text/plain": [
       "count     44789\n",
       "unique       22\n",
       "top        FzaX\n",
       "freq      40304\n",
       "Name: Var219, dtype: object"
      ]
     },
     "execution_count": 67,
     "metadata": {},
     "output_type": "execute_result"
    }
   ],
   "source": [
    "a['Var219'].describe()"
   ]
  },
  {
   "cell_type": "code",
   "execution_count": 68,
   "metadata": {},
   "outputs": [],
   "source": [
    "cat_col = a.select_dtypes(include =['object'])"
   ]
  },
  {
   "cell_type": "code",
   "execution_count": 69,
   "metadata": {},
   "outputs": [
    {
     "name": "stderr",
     "output_type": "stream",
     "text": [
      "/home/rishabh/anaconda3/lib/python3.6/site-packages/ipykernel_launcher.py:2: SettingWithCopyWarning: \n",
      "A value is trying to be set on a copy of a slice from a DataFrame.\n",
      "Try using .loc[row_indexer,col_indexer] = value instead\n",
      "\n",
      "See the caveats in the documentation: http://pandas.pydata.org/pandas-docs/stable/indexing.html#indexing-view-versus-copy\n",
      "  \n"
     ]
    }
   ],
   "source": [
    "for col in cat_col:\n",
    "    cat_col[col] = cat_col[col].astype('category')\n",
    "\n"
   ]
  },
  {
   "cell_type": "code",
   "execution_count": 70,
   "metadata": {
    "scrolled": true
   },
   "outputs": [
    {
     "data": {
      "text/plain": [
       "Var191        1\n",
       "Var192      361\n",
       "Var193       51\n",
       "Var194        3\n",
       "Var195       23\n",
       "Var196        4\n",
       "Var197      225\n",
       "Var198     4291\n",
       "Var199     5073\n",
       "Var200    15415\n",
       "Var201        2\n",
       "Var202     5713\n",
       "Var203        5\n",
       "Var204      100\n",
       "Var205        3\n",
       "Var206       21\n",
       "Var207       14\n",
       "Var208        2\n",
       "Var210        6\n",
       "Var211        2\n",
       "Var212       81\n",
       "Var213        1\n",
       "Var214    15415\n",
       "Var215        1\n",
       "Var216     2016\n",
       "Var217    13990\n",
       "Var218        2\n",
       "Var220     4291\n",
       "Var221        7\n",
       "Var222     4291\n",
       "Var223        4\n",
       "Var224        1\n",
       "Var225        3\n",
       "Var226       23\n",
       "Var227        7\n",
       "Var228       30\n",
       "Var229        4\n",
       "Name: unique, dtype: object"
      ]
     },
     "execution_count": 70,
     "metadata": {},
     "output_type": "execute_result"
    }
   ],
   "source": [
    "cat_col.describe().loc['unique']"
   ]
  },
  {
   "cell_type": "code",
   "execution_count": 55,
   "metadata": {},
   "outputs": [
    {
     "data": {
      "text/plain": [
       "count     50000\n",
       "unique        7\n",
       "top        RAYp\n",
       "freq      35156\n",
       "Name: Var227, dtype: object"
      ]
     },
     "execution_count": 55,
     "metadata": {},
     "output_type": "execute_result"
    }
   ],
   "source": [
    "a['Var227'].describe()"
   ]
  },
  {
   "cell_type": "code",
   "execution_count": null,
   "metadata": {
    "collapsed": true
   },
   "outputs": [],
   "source": []
  }
 ],
 "metadata": {
  "kernelspec": {
   "display_name": "Python 3",
   "language": "python",
   "name": "python3"
  },
  "language_info": {
   "codemirror_mode": {
    "name": "ipython",
    "version": 3
   },
   "file_extension": ".py",
   "mimetype": "text/x-python",
   "name": "python",
   "nbconvert_exporter": "python",
   "pygments_lexer": "ipython3",
   "version": "3.6.3"
  }
 },
 "nbformat": 4,
 "nbformat_minor": 2
}
